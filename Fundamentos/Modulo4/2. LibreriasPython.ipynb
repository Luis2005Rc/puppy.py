{
 "cells": [
  {
   "cell_type": "markdown",
   "metadata": {
    "tags": []
   },
   "source": [
    "# Manipulación de Librerias en Python\n",
    "----------------------------------------------------"
   ]
  },
  {
   "cell_type": "markdown",
   "metadata": {},
   "source": [
    "En esta sección nos centraremos en conocer algunas de las librerias básicas de python asi como emplear librerias externas."
   ]
  },
  {
   "cell_type": "markdown",
   "metadata": {},
   "source": [
    "## 1. Libreria Datetime\n",
    "-----------------------------\n",
    "\n",
    "Este módulo contiene funcionalidades que nos serán utiles para trabajar con tipos de datos fecha\n",
    "\n",
    "Puede ver más ejemplos en el siguiente [link](https://docs.hektorprofe.net/python/modulos-y-paquetes/modulo-datetime/)"
   ]
  },
  {
   "cell_type": "code",
   "execution_count": 1,
   "metadata": {},
   "outputs": [
    {
     "name": "stdout",
     "output_type": "stream",
     "text": [
      "2025-01-28 02:54:55.026390\n",
      "2025\n",
      "1\n",
      "28\n",
      "2\n",
      "54\n",
      "55\n",
      "26390\n",
      "2:54:55\n",
      "28/1/2025\n"
     ]
    }
   ],
   "source": [
    "from datetime import datetime\n",
    "\n",
    "dt = datetime.now()    # Fecha y hora actual\n",
    "\n",
    "print(dt)\n",
    "print(dt.year)         # año\n",
    "print(dt.month)        # mes\n",
    "print(dt.day)          # día\n",
    "\n",
    "print(dt.hour)         # hora\n",
    "print(dt.minute)       # minutos\n",
    "print(dt.second)       # segundos\n",
    "\n",
    "print(dt.microsecond)  # microsegundos\n",
    "\n",
    "print(\"{}:{}:{}\".format(dt.hour, dt.minute, dt.second))\n",
    "print(\"{}/{}/{}\".format(dt.day, dt.month, dt.year))"
   ]
  },
  {
   "cell_type": "code",
   "execution_count": null,
   "metadata": {},
   "outputs": [],
   "source": [
    "# Con esta libreria tambien es posible crear un tipo de dato fecha a partir de los valores de año, mes, dia\n",
    "from datetime import datetime, date\n",
    "\n",
    "dt = datetime(2000,1,1)\n",
    "\n",
    "date_ = date(2000,1,1)\n",
    "\n",
    "print(dt)\n",
    "\n",
    "print(date_)"
   ]
  },
  {
   "cell_type": "markdown",
   "metadata": {},
   "source": [
    "Es posible agregar la zona horaria a nuestra fecha. Para ello debemos emplear la libreria\n",
    "\n",
    "<code>pip install pytz</code>"
   ]
  },
  {
   "cell_type": "code",
   "execution_count": 2,
   "metadata": {},
   "outputs": [
    {
     "name": "stdout",
     "output_type": "stream",
     "text": [
      "Requirement already satisfied: pytz in /home/codespace/.local/lib/python3.12/site-packages (2024.2)\n",
      "\n",
      "\u001b[1m[\u001b[0m\u001b[34;49mnotice\u001b[0m\u001b[1;39;49m]\u001b[0m\u001b[39;49m A new release of pip is available: \u001b[0m\u001b[31;49m24.3.1\u001b[0m\u001b[39;49m -> \u001b[0m\u001b[32;49m25.0\u001b[0m\n",
      "\u001b[1m[\u001b[0m\u001b[34;49mnotice\u001b[0m\u001b[1;39;49m]\u001b[0m\u001b[39;49m To update, run: \u001b[0m\u001b[32;49mpython3 -m pip install --upgrade pip\u001b[0m\n"
     ]
    }
   ],
   "source": [
    "!pip install pytz"
   ]
  },
  {
   "cell_type": "code",
   "execution_count": null,
   "metadata": {},
   "outputs": [],
   "source": [
    "# virtual enviroments\n",
    "# pip script \n",
    "\n",
    "import pytz\n",
    "print(pytz.all_timezones)"
   ]
  },
  {
   "cell_type": "code",
   "execution_count": null,
   "metadata": {},
   "outputs": [],
   "source": [
    "dt = datetime.now(pytz.timezone('America/Lima'))\n",
    "print(dt.strftime(\"%A %d de %B del %Y - %H:%M\"))  # %I 12h - %H 24h"
   ]
  },
  {
   "cell_type": "code",
   "execution_count": null,
   "metadata": {},
   "outputs": [],
   "source": [
    "print(dt.strftime(\"%y-%m-%d\"))"
   ]
  },
  {
   "cell_type": "markdown",
   "metadata": {
    "tags": []
   },
   "source": [
    "## 2. Manipulación de Sistema\n",
    "---------------------------"
   ]
  },
  {
   "cell_type": "markdown",
   "metadata": {},
   "source": [
    "El módulo <code>os</code> nos permite tener un control sobre normbre de archivos y directorios del sistema operativo.\n"
   ]
  },
  {
   "cell_type": "code",
   "execution_count": 4,
   "metadata": {},
   "outputs": [],
   "source": [
    "import os       # Nos permite manipular el sistema operativo\n",
    "import shutil   # Nos permite copiar y mover archivos"
   ]
  },
  {
   "cell_type": "code",
   "execution_count": null,
   "metadata": {},
   "outputs": [],
   "source": [
    "# Ruta de Trabajo actual : Es aquella donde realizamos el trabajo actual\n",
    "\n",
    "print( os.getcwd() )"
   ]
  },
  {
   "cell_type": "markdown",
   "metadata": {},
   "source": [
    "### Rutas Absolutas y Rutas Relativas\n",
    "\n",
    "- Ruta Absoluta: Aquella que inicia desde el directorio raiz\n",
    "- Ruta Relativa: Hace referencia a la posición relativa del directorio de trabajo actual\n"
   ]
  },
  {
   "cell_type": "markdown",
   "metadata": {},
   "source": [
    "<img src=\"./img/automating/relative_absolute_path.jpg\">"
   ]
  },
  {
   "cell_type": "code",
   "execution_count": 5,
   "metadata": {},
   "outputs": [
    {
     "data": {
      "text/plain": [
       "'/workspaces/workspacepy0125v2/Fundamentos/Modulo4/img'"
      ]
     },
     "execution_count": 5,
     "metadata": {},
     "output_type": "execute_result"
    }
   ],
   "source": [
    "# obteniendo ruta absoluta de ruta\n",
    "os.path.abspath('./img')"
   ]
  },
  {
   "cell_type": "code",
   "execution_count": null,
   "metadata": {},
   "outputs": [],
   "source": [
    "# '.' referencia a directorio actual\n",
    "'./scripts'\n",
    "\n",
    "# '..' retrocedo una carpeta y busco la carpeta 'modulo2'\n",
    "'../modulo2'"
   ]
  },
  {
   "cell_type": "markdown",
   "metadata": {},
   "source": [
    "### Validando Existencia de Directorio o File"
   ]
  },
  {
   "cell_type": "code",
   "execution_count": null,
   "metadata": {},
   "outputs": [],
   "source": [
    "# Validando existencia de directorio\n",
    "\n",
    "print( os.path.exists('C:\\\\Windows') )\n",
    "\n",
    "# Comprobando si ruta es directorio\n",
    "print( os.path.isdir('C:\\\\Windows\\\\System32') )\n",
    "\n",
    "print( os.path.isdir('./scripts') )\n",
    "\n",
    "# Comprobando si ruta es file\n",
    "print( os.path.isfile('./texto.txt'))"
   ]
  },
  {
   "cell_type": "markdown",
   "metadata": {},
   "source": [
    "### Otros Métodos de OS"
   ]
  },
  {
   "cell_type": "code",
   "execution_count": 6,
   "metadata": {},
   "outputs": [
    {
     "data": {
      "text/plain": [
       "['modulo',\n",
       " 'ProblemaBonus.ipynb',\n",
       " 'img',\n",
       " 'Ejercicio1.ipynb',\n",
       " 'src',\n",
       " 'tabla-6.txt',\n",
       " 'Ejercicio2.ipynb',\n",
       " 'tabla-5.txt']"
      ]
     },
     "execution_count": 6,
     "metadata": {},
     "output_type": "execute_result"
    }
   ],
   "source": [
    "# Lista elementos del directorio\n",
    "lista=os.listdir('./Ejercicios')\n",
    "\n",
    "for i in  lista:\n",
    "     if os.path.isdir(f'./{i}'):\n",
    "        f2=os.listdir(f'./{i}')\n",
    "        \n",
    "        #recursividad\n",
    "     else:\n",
    "         print(i)\n",
    "         #return i\n",
    "\n",
    "# print(os.listdir())"
   ]
  },
  {
   "cell_type": "code",
   "execution_count": 18,
   "metadata": {},
   "outputs": [
    {
     "name": "stdout",
     "output_type": "stream",
     "text": [
      "/workspaces/workspacepy0125v2/Fundamentos/Modulo4/src\n",
      "/workspaces/workspacepy0125v2/Fundamentos/Modulo4\n"
     ]
    }
   ],
   "source": [
    "# chdir -> cambiar la posición sobre la que se encuentra python\n",
    "print( os.getcwd() )\n",
    "os.chdir('..')\n",
    "\n",
    "print(os.getcwd())"
   ]
  },
  {
   "cell_type": "markdown",
   "metadata": {
    "tags": []
   },
   "source": [
    "### Métodos de Copiado de Archivos (shutil)"
   ]
  },
  {
   "cell_type": "code",
   "execution_count": null,
   "metadata": {},
   "outputs": [],
   "source": [
    "# if not os.path.isdir('./scripts'): \n",
    "#     os.mkdir('./scripts') # mkdir -> crea una carpeta en una ruta dada\n",
    "#     os.mkdir('./scripts/2.demos_files')\n",
    "    "
   ]
  },
  {
   "cell_type": "code",
   "execution_count": 9,
   "metadata": {},
   "outputs": [
    {
     "ename": "FileNotFoundError",
     "evalue": "[Errno 2] No such file or directory: './nuevo_fichero.txt'",
     "output_type": "error",
     "traceback": [
      "\u001b[0;31m---------------------------------------------------------------------------\u001b[0m",
      "\u001b[0;31mFileNotFoundError\u001b[0m                         Traceback (most recent call last)",
      "File \u001b[0;32m/usr/local/python/3.12.1/lib/python3.12/shutil.py:874\u001b[0m, in \u001b[0;36mmove\u001b[0;34m(src, dst, copy_function)\u001b[0m\n\u001b[1;32m    873\u001b[0m \u001b[38;5;28;01mtry\u001b[39;00m:\n\u001b[0;32m--> 874\u001b[0m     \u001b[43mos\u001b[49m\u001b[38;5;241;43m.\u001b[39;49m\u001b[43mrename\u001b[49m\u001b[43m(\u001b[49m\u001b[43msrc\u001b[49m\u001b[43m,\u001b[49m\u001b[43m \u001b[49m\u001b[43mreal_dst\u001b[49m\u001b[43m)\u001b[49m\n\u001b[1;32m    875\u001b[0m \u001b[38;5;28;01mexcept\u001b[39;00m \u001b[38;5;167;01mOSError\u001b[39;00m:\n",
      "\u001b[0;31mFileNotFoundError\u001b[0m: [Errno 2] No such file or directory: './nuevo_fichero.txt' -> './nuevo_fichero_movido.txt'",
      "\nDuring handling of the above exception, another exception occurred:\n",
      "\u001b[0;31mFileNotFoundError\u001b[0m                         Traceback (most recent call last)",
      "Cell \u001b[0;32mIn[9], line 5\u001b[0m\n\u001b[1;32m      1\u001b[0m \u001b[38;5;66;03m# Copiando archivos de un directorio a una partera\u001b[39;00m\n\u001b[1;32m      2\u001b[0m \u001b[38;5;66;03m# shutil.copy(r'../escritura.txt', r'./escritura.txt')\u001b[39;00m\n\u001b[1;32m      3\u001b[0m \n\u001b[1;32m      4\u001b[0m \u001b[38;5;66;03m# mover y cambiar nombre a un fichero\u001b[39;00m\n\u001b[0;32m----> 5\u001b[0m \u001b[43mshutil\u001b[49m\u001b[38;5;241;43m.\u001b[39;49m\u001b[43mmove\u001b[49m\u001b[43m(\u001b[49m\u001b[38;5;124;43m'\u001b[39;49m\u001b[38;5;124;43m./nuevo_fichero.txt\u001b[39;49m\u001b[38;5;124;43m'\u001b[39;49m\u001b[43m,\u001b[49m\u001b[43m \u001b[49m\u001b[38;5;124;43m'\u001b[39;49m\u001b[38;5;124;43m./nuevo_fichero_movido.txt\u001b[39;49m\u001b[38;5;124;43m'\u001b[39;49m\u001b[43m)\u001b[49m\n",
      "File \u001b[0;32m/usr/local/python/3.12.1/lib/python3.12/shutil.py:894\u001b[0m, in \u001b[0;36mmove\u001b[0;34m(src, dst, copy_function)\u001b[0m\n\u001b[1;32m    892\u001b[0m         rmtree(src)\n\u001b[1;32m    893\u001b[0m     \u001b[38;5;28;01melse\u001b[39;00m:\n\u001b[0;32m--> 894\u001b[0m         \u001b[43mcopy_function\u001b[49m\u001b[43m(\u001b[49m\u001b[43msrc\u001b[49m\u001b[43m,\u001b[49m\u001b[43m \u001b[49m\u001b[43mreal_dst\u001b[49m\u001b[43m)\u001b[49m\n\u001b[1;32m    895\u001b[0m         os\u001b[38;5;241m.\u001b[39munlink(src)\n\u001b[1;32m    896\u001b[0m \u001b[38;5;28;01mreturn\u001b[39;00m real_dst\n",
      "File \u001b[0;32m/usr/local/python/3.12.1/lib/python3.12/shutil.py:463\u001b[0m, in \u001b[0;36mcopy2\u001b[0;34m(src, dst, follow_symlinks)\u001b[0m\n\u001b[1;32m    460\u001b[0m         \u001b[38;5;28;01melse\u001b[39;00m:\n\u001b[1;32m    461\u001b[0m             \u001b[38;5;28;01mraise\u001b[39;00m\n\u001b[0;32m--> 463\u001b[0m \u001b[43mcopyfile\u001b[49m\u001b[43m(\u001b[49m\u001b[43msrc\u001b[49m\u001b[43m,\u001b[49m\u001b[43m \u001b[49m\u001b[43mdst\u001b[49m\u001b[43m,\u001b[49m\u001b[43m \u001b[49m\u001b[43mfollow_symlinks\u001b[49m\u001b[38;5;241;43m=\u001b[39;49m\u001b[43mfollow_symlinks\u001b[49m\u001b[43m)\u001b[49m\n\u001b[1;32m    464\u001b[0m copystat(src, dst, follow_symlinks\u001b[38;5;241m=\u001b[39mfollow_symlinks)\n\u001b[1;32m    465\u001b[0m \u001b[38;5;28;01mreturn\u001b[39;00m dst\n",
      "File \u001b[0;32m/usr/local/python/3.12.1/lib/python3.12/shutil.py:260\u001b[0m, in \u001b[0;36mcopyfile\u001b[0;34m(src, dst, follow_symlinks)\u001b[0m\n\u001b[1;32m    258\u001b[0m     os\u001b[38;5;241m.\u001b[39msymlink(os\u001b[38;5;241m.\u001b[39mreadlink(src), dst)\n\u001b[1;32m    259\u001b[0m \u001b[38;5;28;01melse\u001b[39;00m:\n\u001b[0;32m--> 260\u001b[0m     \u001b[38;5;28;01mwith\u001b[39;00m \u001b[38;5;28;43mopen\u001b[39;49m\u001b[43m(\u001b[49m\u001b[43msrc\u001b[49m\u001b[43m,\u001b[49m\u001b[43m \u001b[49m\u001b[38;5;124;43m'\u001b[39;49m\u001b[38;5;124;43mrb\u001b[39;49m\u001b[38;5;124;43m'\u001b[39;49m\u001b[43m)\u001b[49m \u001b[38;5;28;01mas\u001b[39;00m fsrc:\n\u001b[1;32m    261\u001b[0m         \u001b[38;5;28;01mtry\u001b[39;00m:\n\u001b[1;32m    262\u001b[0m             \u001b[38;5;28;01mwith\u001b[39;00m \u001b[38;5;28mopen\u001b[39m(dst, \u001b[38;5;124m'\u001b[39m\u001b[38;5;124mwb\u001b[39m\u001b[38;5;124m'\u001b[39m) \u001b[38;5;28;01mas\u001b[39;00m fdst:\n\u001b[1;32m    263\u001b[0m                 \u001b[38;5;66;03m# macOS\u001b[39;00m\n",
      "\u001b[0;31mFileNotFoundError\u001b[0m: [Errno 2] No such file or directory: './nuevo_fichero.txt'"
     ]
    }
   ],
   "source": [
    "# Copiando archivos de un directorio a una partera\n",
    "# shutil.copy(r'../escritura.txt', r'./escritura.txt')\n",
    "\n",
    "# mover y cambiar nombre a un fichero\n",
    "shutil.move('./nuevo_fichero.txt', './nuevo_fichero_movido.txt')"
   ]
  },
  {
   "cell_type": "code",
   "execution_count": 10,
   "metadata": {},
   "outputs": [
    {
     "ename": "FileNotFoundError",
     "evalue": "[Errno 2] No such file or directory: './src'",
     "output_type": "error",
     "traceback": [
      "\u001b[0;31m---------------------------------------------------------------------------\u001b[0m",
      "\u001b[0;31mFileNotFoundError\u001b[0m                         Traceback (most recent call last)",
      "Cell \u001b[0;32mIn[10], line 1\u001b[0m\n\u001b[0;32m----> 1\u001b[0m \u001b[43mos\u001b[49m\u001b[38;5;241;43m.\u001b[39;49m\u001b[43mlistdir\u001b[49m\u001b[43m(\u001b[49m\u001b[38;5;124;43m'\u001b[39;49m\u001b[38;5;124;43m./src\u001b[39;49m\u001b[38;5;124;43m'\u001b[39;49m\u001b[43m)\u001b[49m\n",
      "\u001b[0;31mFileNotFoundError\u001b[0m: [Errno 2] No such file or directory: './src'"
     ]
    }
   ],
   "source": [
    "os.listdir('./src')"
   ]
  },
  {
   "cell_type": "code",
   "execution_count": 11,
   "metadata": {},
   "outputs": [
    {
     "ename": "FileNotFoundError",
     "evalue": "[Errno 2] No such file or directory: './src'",
     "output_type": "error",
     "traceback": [
      "\u001b[0;31m---------------------------------------------------------------------------\u001b[0m",
      "\u001b[0;31mFileNotFoundError\u001b[0m                         Traceback (most recent call last)",
      "Cell \u001b[0;32mIn[11], line 1\u001b[0m\n\u001b[0;32m----> 1\u001b[0m \u001b[38;5;28;01mfor\u001b[39;00m file \u001b[38;5;129;01min\u001b[39;00m \u001b[43mos\u001b[49m\u001b[38;5;241;43m.\u001b[39;49m\u001b[43mlistdir\u001b[49m\u001b[43m(\u001b[49m\u001b[38;5;124;43m'\u001b[39;49m\u001b[38;5;124;43m./src\u001b[39;49m\u001b[38;5;124;43m'\u001b[39;49m\u001b[43m)\u001b[49m:\n\u001b[1;32m      2\u001b[0m     \u001b[38;5;66;03m# valido que sea archivo y termine en extensión .txt\u001b[39;00m\n\u001b[1;32m      3\u001b[0m     \u001b[38;5;28;01mif\u001b[39;00m os\u001b[38;5;241m.\u001b[39mpath\u001b[38;5;241m.\u001b[39misfile(\u001b[38;5;124mf\u001b[39m\u001b[38;5;124m'\u001b[39m\u001b[38;5;124m./src/\u001b[39m\u001b[38;5;132;01m{\u001b[39;00mfile\u001b[38;5;132;01m}\u001b[39;00m\u001b[38;5;124m'\u001b[39m) \u001b[38;5;129;01mand\u001b[39;00m file\u001b[38;5;241m.\u001b[39mendswith(\u001b[38;5;124m'\u001b[39m\u001b[38;5;124m.txt\u001b[39m\u001b[38;5;124m'\u001b[39m):\n\u001b[1;32m      4\u001b[0m         file_name, ext \u001b[38;5;241m=\u001b[39m file\u001b[38;5;241m.\u001b[39msplit(\u001b[38;5;124m'\u001b[39m\u001b[38;5;124m.\u001b[39m\u001b[38;5;124m'\u001b[39m)\n",
      "\u001b[0;31mFileNotFoundError\u001b[0m: [Errno 2] No such file or directory: './src'"
     ]
    }
   ],
   "source": [
    "for file in os.listdir('./src'):\n",
    "    # valido que sea archivo y termine en extensión .txt\n",
    "    if os.path.isfile(f'./src/{file}') and file.endswith('.txt'):\n",
    "        file_name, ext = file.split('.')\n",
    "        shutil.copy(f'./src/{file}', f'./dts/{file_name}_copy.{ext}')"
   ]
  },
  {
   "cell_type": "markdown",
   "metadata": {},
   "source": [
    "### Trabajando con archivos zipeados\n",
    "\n",
    "En esta sección aprenderemos a manipular archivos zipeados con python"
   ]
  },
  {
   "cell_type": "code",
   "execution_count": 13,
   "metadata": {},
   "outputs": [],
   "source": [
    "import os\n",
    "import zipfile\n",
    "\n",
    "# creando un archivo zipeado\n",
    "directory = '/workspaces/workspacepy0125v2/Fundamentos/Modulo4/src'\n",
    "files = os.listdir(directory)\n",
    "\n",
    "with zipfile.ZipFile('archivos_txt.zip', 'w') as zip:\n",
    "    for file in files:\n",
    "        # mover en carpeta\n",
    "        file_path = os.path.join(directory, file)\n",
    "\n",
    "        if os.path.isfile(file_path):\n",
    "            zip.write(file_path,os.path.basename(file_path) )# para evitar subcarpetas\n"
   ]
  },
  {
   "cell_type": "code",
   "execution_count": 16,
   "metadata": {},
   "outputs": [],
   "source": [
    "import zipfile\n",
    "\n",
    "\n",
    "# DESCOMPRIMIR INFORMACIÓN DE UN ARCHIVO ZIP\n",
    "with zipfile.ZipFile('/workspaces/workspacepy0125v2/Fundamentos/Modulo4/padron_reducido_local_anexo.zip', 'r') as zip_ref:\n",
    "    zip_ref.extractall(path='./unzip')"
   ]
  },
  {
   "cell_type": "code",
   "execution_count": null,
   "metadata": {},
   "outputs": [],
   "source": []
  },
  {
   "cell_type": "markdown",
   "metadata": {},
   "source": [
    "## 3. Manipulando Elementos Web\n",
    "----------------------\n",
    "\n",
    "**Requests es una librería Python que facilita enormemente el trabajo con peticiones HTTP**. Antes o después, en algún proyecto, es posible que tengas que hacer peticiones web, ya sea para consumir un API, extraer información de una página o enviar el contenido de un formulario de manera automatizada. Si es así, Python requests es tu gran aliada."
   ]
  },
  {
   "cell_type": "markdown",
   "metadata": {},
   "source": [
    "<center>\n",
    "    <img src='./img/automating/web.png' width=\"500\" height=\"600\">\n",
    "</center>"
   ]
  },
  {
   "cell_type": "code",
   "execution_count": null,
   "metadata": {},
   "outputs": [],
   "source": [
    "# instalando libreria\n",
    "!pip install lxml "
   ]
  },
  {
   "cell_type": "markdown",
   "metadata": {
    "tags": []
   },
   "source": [
    "### 3.1 Introducción al uso de APIs\n",
    "\n",
    "- Muchos sitios web, generan sus propias APIs a manera de facilitar la comunicación con diversos sistemas de información\n",
    "- A diferencia del web scraping convencional, las APIs son mucho más faciles de utilizar\n",
    "- Comunmente se utilizá el formato JSON como formato de intercambio de datos\n",
    "\n",
    "\n",
    "\n",
    "<center>\n",
    "\n",
    "  <img src='https://encrypted-tbn0.gstatic.com/images?q=tbn:ANd9GcSwTt3CMQQ7JigO6qys2jwVBEToNZahbZL5AA&usqp=CAU' width=\"500\" height=\"600\">\n",
    "\n",
    "</center>\n",
    "\n",
    "Links Referencia\n",
    "-----------------------\n",
    "\n",
    "- [Video Introductorio APIS](https://www.youtube.com/watch?v=sB6Vc3gze3w)\n",
    "- [Qué son las APIS? ](https://developer.mozilla.org/es/docs/Learn/JavaScript/Client-side_web_APIs/Introduction)\n"
   ]
  },
  {
   "cell_type": "markdown",
   "metadata": {},
   "source": [
    "#### Json\n",
    "\n",
    "JSON (JavaScript Object Notation) es un formato ligero de intercambio de datos. JSON es de fácil lectura y escritura para los usuarios\n",
    "\n",
    "- Parecido a un diccionario\n",
    "- Es usualmente el formato empleado como obtendremos la información del sitio web\n",
    "\n",
    "<img src='https://addons.mozilla.org/user-media/previews/full/29/29967.png?modified=1622132517'>\n"
   ]
  },
  {
   "cell_type": "markdown",
   "metadata": {},
   "source": [
    "#### **Ejemplo1**\n",
    "\n",
    "Emplearemos el API de tipo de cambio SUNAT para obtener estos datos de \n",
    "forma directa en lugar de dirigirnos al sitio web SUNAT para obtener estos valores. \n",
    "\n",
    "(Sitio Oficial Sunat: https://e-consulta.sunat.gob.pe/cl-at-ittipcam/tcS01Alias)\n",
    "\n",
    "\n",
    "Muchas apis cuentan con documentación de uso.\n",
    "Para este ejemplo debemos darle una mirada al sitio web\n",
    "\n",
    "- https://apis.net.pe/api-tipo-cambio.html"
   ]
  },
  {
   "cell_type": "code",
   "execution_count": 1,
   "metadata": {},
   "outputs": [
    {
     "name": "stdout",
     "output_type": "stream",
     "text": [
      "Defaulting to user installation because normal site-packages is not writeable\n",
      "Collecting requests\n",
      "  Downloading requests-2.32.3-py3-none-any.whl (64 kB)\n",
      "\u001b[2K     \u001b[90m━━━━━━━━━━━━━━━━━━━━━━━━━━━━━━━━━━━━━━━━\u001b[0m \u001b[32m64.9/64.9 kB\u001b[0m \u001b[31m2.5 MB/s\u001b[0m eta \u001b[36m0:00:00\u001b[0m\n",
      "\u001b[?25hCollecting idna<4,>=2.5\n",
      "  Downloading idna-3.10-py3-none-any.whl (70 kB)\n",
      "\u001b[2K     \u001b[90m━━━━━━━━━━━━━━━━━━━━━━━━━━━━━━━━━━━━━━━━\u001b[0m \u001b[32m70.4/70.4 kB\u001b[0m \u001b[31m3.9 MB/s\u001b[0m eta \u001b[36m0:00:00\u001b[0m\n",
      "\u001b[?25hCollecting charset-normalizer<4,>=2\n",
      "  Downloading charset_normalizer-3.3.2-cp39-cp39-manylinux_2_17_x86_64.manylinux2014_x86_64.whl (142 kB)\n",
      "\u001b[2K     \u001b[90m━━━━━━━━━━━━━━━━━━━━━━━━━━━━━━━━━━━━━━━\u001b[0m \u001b[32m142.3/142.3 kB\u001b[0m \u001b[31m4.9 MB/s\u001b[0m eta \u001b[36m0:00:00\u001b[0m\n",
      "\u001b[?25hCollecting urllib3<3,>=1.21.1\n",
      "  Downloading urllib3-2.2.3-py3-none-any.whl (126 kB)\n",
      "\u001b[2K     \u001b[90m━━━━━━━━━━━━━━━━━━━━━━━━━━━━━━━━━━━━━━━\u001b[0m \u001b[32m126.3/126.3 kB\u001b[0m \u001b[31m7.4 MB/s\u001b[0m eta \u001b[36m0:00:00\u001b[0m\n",
      "\u001b[?25hCollecting certifi>=2017.4.17\n",
      "  Downloading certifi-2024.8.30-py3-none-any.whl (167 kB)\n",
      "\u001b[2K     \u001b[90m━━━━━━━━━━━━━━━━━━━━━━━━━━━━━━━━━━━━━━━\u001b[0m \u001b[32m167.3/167.3 kB\u001b[0m \u001b[31m8.2 MB/s\u001b[0m eta \u001b[36m0:00:00\u001b[0m\n",
      "\u001b[?25hInstalling collected packages: urllib3, idna, charset-normalizer, certifi, requests\n",
      "Successfully installed certifi-2024.8.30 charset-normalizer-3.3.2 idna-3.10 requests-2.32.3 urllib3-2.2.3\n",
      "\n",
      "\u001b[1m[\u001b[0m\u001b[34;49mnotice\u001b[0m\u001b[1;39;49m]\u001b[0m\u001b[39;49m A new release of pip is available: \u001b[0m\u001b[31;49m23.0.1\u001b[0m\u001b[39;49m -> \u001b[0m\u001b[32;49m24.2\u001b[0m\n",
      "\u001b[1m[\u001b[0m\u001b[34;49mnotice\u001b[0m\u001b[1;39;49m]\u001b[0m\u001b[39;49m To update, run: \u001b[0m\u001b[32;49mpip install --upgrade pip\u001b[0m\n"
     ]
    }
   ],
   "source": [
    "!pip install requests"
   ]
  },
  {
   "cell_type": "code",
   "execution_count": null,
   "metadata": {},
   "outputs": [],
   "source": [
    "https://api.apis.net.pe/v1/tipo-cambio-sunat?month=5&year=2023\n",
    "\n",
    "# https://api.apis.net.pe/v1/tipo-cambio-sunat"
   ]
  },
  {
   "cell_type": "code",
   "execution_count": 2,
   "metadata": {},
   "outputs": [
    {
     "data": {
      "text/plain": [
       "{'compra': 3.727,\n",
       " 'venta': 3.734,\n",
       " 'origen': 'SUNAT',\n",
       " 'moneda': 'USD',\n",
       " 'fecha': '2024-10-06'}"
      ]
     },
     "execution_count": 2,
     "metadata": {},
     "output_type": "execute_result"
    }
   ],
   "source": [
    "## Obteniendo los valores del json \n",
    "import requests\n",
    "url=\"https://api.apis.net.pe/v1/tipo-cambio-sunat\"\n",
    "response=requests.get(url)\n",
    "\n",
    "# 2. Recupero la informacion como json\n",
    "data = response.json()\n",
    "\n",
    "data"
   ]
  },
  {
   "cell_type": "code",
   "execution_count": 3,
   "metadata": {},
   "outputs": [
    {
     "data": {
      "text/plain": [
       "200"
      ]
     },
     "execution_count": 3,
     "metadata": {},
     "output_type": "execute_result"
    }
   ],
   "source": [
    "response.status_code"
   ]
  },
  {
   "cell_type": "code",
   "execution_count": 4,
   "metadata": {},
   "outputs": [
    {
     "name": "stdout",
     "output_type": "stream",
     "text": [
      "37.269999999999996\n",
      "37.34\n"
     ]
    }
   ],
   "source": [
    "# 3. Recupero valor tipo cambio - compra - venta\n",
    "dolar_compra = data['compra']\n",
    "dolar_venta = data['venta']\n",
    "\n",
    "print(dolar_compra * 10) # costo compra dolar\n",
    "print(dolar_venta * 10) # costo venta dolar"
   ]
  },
  {
   "cell_type": "markdown",
   "metadata": {},
   "source": [
    "#### Ejercicio:\n",
    "\n",
    "Emplearemos el api Pokemons para obtener datos interesantes de nuestro pokemon favorito. \n",
    "\n",
    "Ingrese al siguiente link https://pokeapi.co/ y realice la busqueda del pokemon pikachu trayendo algunos de sus datos\n"
   ]
  },
  {
   "cell_type": "code",
   "execution_count": null,
   "metadata": {},
   "outputs": [],
   "source": [
    "import requests\n",
    "url=\"https://pokeapi.co/api/v2/pokemon/ditto\"\n",
    "response=requests.get(url)\n",
    "\n",
    "# 2. Recupero la informacion como json\n",
    "data = response.json()\n",
    "\n",
    "# 3. Recupero de abilidad y experiencia base\n",
    "abilidad= data['abilities']\n",
    "experiencia_base = data['base_experience']\n",
    "\n",
    "print(abilidad) \n",
    "print(experiencia_base)"
   ]
  },
  {
   "cell_type": "markdown",
   "metadata": {},
   "source": [
    "#### 3.2 Descarga de Archivos Web\n",
    "\n",
    "Los archivos como imagenes o documentos publicados en sitios web es posible descargarlos mediante la libreria Requests"
   ]
  },
  {
   "cell_type": "code",
   "execution_count": 5,
   "metadata": {},
   "outputs": [],
   "source": [
    "# Ejemplo\n",
    "#-------------------\n",
    "\n",
    "\"\"\"\n",
    "Imaginemos que quisieramos obtener una imagen situada en el siguiente sitio web.\n",
    "\n",
    "https://es.wikipedia.org/wiki/Canis_familiaris\n",
    "\"\"\"\n",
    "import requests\n",
    "\n",
    "# os.chdir('/workspaces/ProgramacionPython/Modulo4')\n",
    "\n",
    "# para descargar algo de un sitio, necesito la url del elemento a descargar\n",
    "url = 'https://cdn.outsideonline.com/wp-content/uploads/2023/03/Funny_Dog_H.jpg?crop=16:9&width=960&enable=upscale&quality=100'\n",
    "#'https://upload.wikimedia.org/wikipedia/commons/thumb/e/e3/Coat_types_3.jpg/800px-Coat_types_3.jpg'\n",
    "# Algunos sitios tienen restricciones de descarga para bots\n",
    "# debemos emplear user agents para simular que es una persona la que hace la busqueda\n",
    "headers = {'User-Agent': 'Mozilla/5.0 (Windows NT 10.0; Win64; x64) AppleWebKit/537.36 (KHTML, like Gecko) Chrome/117.0.0.0 Safari/537.36'}\n",
    "\n",
    "response = requests.get(url, headers=headers)\n",
    "\n",
    "# wb -> escritura en binario \n",
    "with open('perro.jpg', 'wb') as f:\n",
    "    f.write(response.content)\n",
    "    pass"
   ]
  },
  {
   "cell_type": "code",
   "execution_count": null,
   "metadata": {},
   "outputs": [],
   "source": [
    "response.content"
   ]
  },
  {
   "cell_type": "code",
   "execution_count": null,
   "metadata": {},
   "outputs": [],
   "source": [
    "# http://www2.sunat.gob.pe/padron_reducido_ruc.zip"
   ]
  },
  {
   "cell_type": "code",
   "execution_count": 6,
   "metadata": {},
   "outputs": [],
   "source": [
    "import requests\n",
    "import os\n",
    "\n",
    "\n",
    "# os.chdir('/workspaces/ProgramacionPython/Modulo4')\n",
    "\n",
    "url = 'https://www.sunat.gob.pe/descargaPRR/padron_reducido_local_anexo.zip'\n",
    "\n",
    "response = requests.get(url)\n",
    "with open('padron_reducido_local_anexo.zip', 'wb') as f:\n",
    "    f.write(response.content)\n",
    "    pass"
   ]
  },
  {
   "cell_type": "markdown",
   "metadata": {},
   "source": [
    "Lectura Adicional: https://realpython.com/python-download-file-from-url/"
   ]
  }
 ],
 "metadata": {
  "kernelspec": {
   "display_name": "Python 3",
   "language": "python",
   "name": "python3"
  },
  "language_info": {
   "codemirror_mode": {
    "name": "ipython",
    "version": 3
   },
   "file_extension": ".py",
   "mimetype": "text/x-python",
   "name": "python",
   "nbconvert_exporter": "python",
   "pygments_lexer": "ipython3",
   "version": "3.12.1"
  }
 },
 "nbformat": 4,
 "nbformat_minor": 4
}
